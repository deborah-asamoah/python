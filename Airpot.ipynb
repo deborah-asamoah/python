{
 "cells": [
  {
   "cell_type": "code",
   "execution_count": 1,
   "id": "1058e3f8",
   "metadata": {},
   "outputs": [],
   "source": [
    "import numpy as np\n",
    "import pandas as pd"
   ]
  },
  {
   "cell_type": "code",
   "execution_count": 19,
   "id": "546b4239",
   "metadata": {},
   "outputs": [
    {
     "ename": "SyntaxError",
     "evalue": "invalid syntax (1235005061.py, line 3)",
     "output_type": "error",
     "traceback": [
      "\u001b[1;36m  Cell \u001b[1;32mIn[19], line 3\u001b[1;36m\u001b[0m\n\u001b[1;33m    .groupby(level=0).first().dropna().sample(n=500, random_state=42).sort_index()\u001b[0m\n\u001b[1;37m    ^\u001b[0m\n\u001b[1;31mSyntaxError\u001b[0m\u001b[1;31m:\u001b[0m invalid syntax\n"
     ]
    }
   ],
   "source": [
    "coord = pd.read_csv(\"airports.dat\", index_col=['AIRPORT'], \n",
    "                    usecols=['AIRPORT', 'LATITUDE', 'LONGITUDE']).groupby(level=0).first().dropna().sample(n=500, random_state=42).sort_index()\n",
    "coord.head()"
   ]
  },
  {
   "cell_type": "code",
   "execution_count": null,
   "id": "f3cea1e6",
   "metadata": {},
   "outputs": [],
   "source": []
  },
  {
   "cell_type": "code",
   "execution_count": 17,
   "id": "2a2cd0e8",
   "metadata": {},
   "outputs": [
    {
     "data": {
      "text/html": [
       "<div>\n",
       "<style scoped>\n",
       "    .dataframe tbody tr th:only-of-type {\n",
       "        vertical-align: middle;\n",
       "    }\n",
       "\n",
       "    .dataframe tbody tr th {\n",
       "        vertical-align: top;\n",
       "    }\n",
       "\n",
       "    .dataframe thead th {\n",
       "        text-align: right;\n",
       "    }\n",
       "</style>\n",
       "<table border=\"1\" class=\"dataframe\">\n",
       "  <thead>\n",
       "    <tr style=\"text-align: right;\">\n",
       "      <th></th>\n",
       "      <th></th>\n",
       "      <th>LATITUDE_SRC</th>\n",
       "      <th>LONGITUDE_SRC</th>\n",
       "      <th>LATITUDE_DST</th>\n",
       "      <th>LONGITUDE_DST</th>\n",
       "    </tr>\n",
       "    <tr>\n",
       "      <th>origin</th>\n",
       "      <th>dest</th>\n",
       "      <th></th>\n",
       "      <th></th>\n",
       "      <th></th>\n",
       "      <th></th>\n",
       "    </tr>\n",
       "  </thead>\n",
       "  <tbody>\n",
       "    <tr>\n",
       "      <th rowspan=\"5\" valign=\"top\">2CA</th>\n",
       "      <th>2CA</th>\n",
       "      <td>35.745556</td>\n",
       "      <td>-119.236389</td>\n",
       "      <td>35.745556</td>\n",
       "      <td>-119.236389</td>\n",
       "    </tr>\n",
       "    <tr>\n",
       "      <th>8F3</th>\n",
       "      <td>35.745556</td>\n",
       "      <td>-119.236389</td>\n",
       "      <td>33.623889</td>\n",
       "      <td>-101.240833</td>\n",
       "    </tr>\n",
       "    <tr>\n",
       "      <th>A08</th>\n",
       "      <td>35.745556</td>\n",
       "      <td>-119.236389</td>\n",
       "      <td>56.598056</td>\n",
       "      <td>-134.242778</td>\n",
       "    </tr>\n",
       "    <tr>\n",
       "      <th>A15</th>\n",
       "      <td>35.745556</td>\n",
       "      <td>-119.236389</td>\n",
       "      <td>70.718611</td>\n",
       "      <td>-154.388333</td>\n",
       "    </tr>\n",
       "    <tr>\n",
       "      <th>A27</th>\n",
       "      <td>35.745556</td>\n",
       "      <td>-119.236389</td>\n",
       "      <td>64.440000</td>\n",
       "      <td>-144.936389</td>\n",
       "    </tr>\n",
       "  </tbody>\n",
       "</table>\n",
       "</div>"
      ],
      "text/plain": [
       "             LATITUDE_SRC  LONGITUDE_SRC  LATITUDE_DST  LONGITUDE_DST\n",
       "origin dest                                                          \n",
       "2CA    2CA      35.745556    -119.236389     35.745556    -119.236389\n",
       "       8F3      35.745556    -119.236389     33.623889    -101.240833\n",
       "       A08      35.745556    -119.236389     56.598056    -134.242778\n",
       "       A15      35.745556    -119.236389     70.718611    -154.388333\n",
       "       A27      35.745556    -119.236389     64.440000    -144.936389"
      ]
     },
     "execution_count": 17,
     "metadata": {},
     "output_type": "execute_result"
    }
   ],
   "source": [
    "idx = pd.MultiIndex.from_product([coord.index, coord.index], \n",
    "                                             names=['origin','dest'])\n",
    "\n",
    "pairs = pd.concat([coord.add_suffix('_SRC').reindex(idx, level='origin'),\n",
    "                   coord.add_suffix('_DST').reindex(idx, level='dest')],\n",
    "                  axis=1)\n",
    "pairs.head()"
   ]
  },
  {
   "cell_type": "code",
   "execution_count": null,
   "id": "937b44e2",
   "metadata": {},
   "outputs": [],
   "source": []
  },
  {
   "cell_type": "code",
   "execution_count": null,
   "id": "9641208a",
   "metadata": {},
   "outputs": [],
   "source": []
  },
  {
   "cell_type": "code",
   "execution_count": null,
   "id": "44922934",
   "metadata": {},
   "outputs": [],
   "source": []
  },
  {
   "cell_type": "code",
   "execution_count": null,
   "id": "6afa1b5a",
   "metadata": {},
   "outputs": [],
   "source": []
  },
  {
   "cell_type": "code",
   "execution_count": null,
   "id": "6c8b2197",
   "metadata": {},
   "outputs": [],
   "source": []
  },
  {
   "cell_type": "code",
   "execution_count": null,
   "id": "285d647b",
   "metadata": {},
   "outputs": [],
   "source": []
  },
  {
   "cell_type": "code",
   "execution_count": null,
   "id": "ac93e0e5",
   "metadata": {},
   "outputs": [],
   "source": []
  },
  {
   "cell_type": "code",
   "execution_count": null,
   "id": "3c327c27",
   "metadata": {},
   "outputs": [],
   "source": []
  },
  {
   "cell_type": "code",
   "execution_count": null,
   "id": "92ab940d",
   "metadata": {},
   "outputs": [],
   "source": []
  },
  {
   "cell_type": "code",
   "execution_count": null,
   "id": "b498087e",
   "metadata": {},
   "outputs": [],
   "source": []
  },
  {
   "cell_type": "code",
   "execution_count": null,
   "id": "bdd027bb",
   "metadata": {},
   "outputs": [],
   "source": []
  },
  {
   "cell_type": "code",
   "execution_count": null,
   "id": "2e971823",
   "metadata": {},
   "outputs": [],
   "source": []
  },
  {
   "cell_type": "code",
   "execution_count": null,
   "id": "a78f3f77",
   "metadata": {},
   "outputs": [],
   "source": []
  },
  {
   "cell_type": "code",
   "execution_count": null,
   "id": "87c3517a",
   "metadata": {},
   "outputs": [],
   "source": []
  },
  {
   "cell_type": "code",
   "execution_count": null,
   "id": "7ab9bcfb",
   "metadata": {},
   "outputs": [],
   "source": []
  },
  {
   "cell_type": "code",
   "execution_count": null,
   "id": "724d477a",
   "metadata": {},
   "outputs": [],
   "source": []
  },
  {
   "cell_type": "code",
   "execution_count": null,
   "id": "db8b83c8",
   "metadata": {},
   "outputs": [],
   "source": []
  },
  {
   "cell_type": "code",
   "execution_count": null,
   "id": "c350b422",
   "metadata": {},
   "outputs": [],
   "source": []
  },
  {
   "cell_type": "code",
   "execution_count": null,
   "id": "0d6fc354",
   "metadata": {},
   "outputs": [],
   "source": []
  }
 ],
 "metadata": {
  "kernelspec": {
   "display_name": "Python 3 (ipykernel)",
   "language": "python",
   "name": "python3"
  },
  "language_info": {
   "codemirror_mode": {
    "name": "ipython",
    "version": 3
   },
   "file_extension": ".py",
   "mimetype": "text/x-python",
   "name": "python",
   "nbconvert_exporter": "python",
   "pygments_lexer": "ipython3",
   "version": "3.10.9"
  }
 },
 "nbformat": 4,
 "nbformat_minor": 5
}
