{
 "cells": [
  {
   "cell_type": "code",
   "execution_count": 1,
   "id": "ba9defb2",
   "metadata": {},
   "outputs": [],
   "source": [
    "import numpy as np\n",
    "import pandas as pd\n",
    "import matplotlib.pyplot as plt"
   ]
  },
  {
   "cell_type": "code",
   "execution_count": 2,
   "id": "8132232b",
   "metadata": {
    "collapsed": true
   },
   "outputs": [
    {
     "data": {
      "text/html": [
       "<div>\n",
       "<style scoped>\n",
       "    .dataframe tbody tr th:only-of-type {\n",
       "        vertical-align: middle;\n",
       "    }\n",
       "\n",
       "    .dataframe tbody tr th {\n",
       "        vertical-align: top;\n",
       "    }\n",
       "\n",
       "    .dataframe thead th {\n",
       "        text-align: right;\n",
       "    }\n",
       "</style>\n",
       "<table border=\"1\" class=\"dataframe\">\n",
       "  <thead>\n",
       "    <tr style=\"text-align: right;\">\n",
       "      <th></th>\n",
       "      <th>Date</th>\n",
       "      <th>Open</th>\n",
       "      <th>High</th>\n",
       "      <th>Low</th>\n",
       "      <th>Close</th>\n",
       "      <th>Adj Close</th>\n",
       "      <th>Volume</th>\n",
       "    </tr>\n",
       "  </thead>\n",
       "  <tbody>\n",
       "    <tr>\n",
       "      <th>0</th>\n",
       "      <td>2017-01-03</td>\n",
       "      <td>115.800003</td>\n",
       "      <td>116.330002</td>\n",
       "      <td>114.760002</td>\n",
       "      <td>116.150002</td>\n",
       "      <td>113.013916</td>\n",
       "      <td>28781900</td>\n",
       "    </tr>\n",
       "    <tr>\n",
       "      <th>1</th>\n",
       "      <td>2017-01-04</td>\n",
       "      <td>115.849998</td>\n",
       "      <td>116.510002</td>\n",
       "      <td>115.750000</td>\n",
       "      <td>116.019997</td>\n",
       "      <td>112.887413</td>\n",
       "      <td>21118100</td>\n",
       "    </tr>\n",
       "    <tr>\n",
       "      <th>2</th>\n",
       "      <td>2017-01-05</td>\n",
       "      <td>115.919998</td>\n",
       "      <td>116.860001</td>\n",
       "      <td>115.809998</td>\n",
       "      <td>116.610001</td>\n",
       "      <td>113.461502</td>\n",
       "      <td>22193600</td>\n",
       "    </tr>\n",
       "    <tr>\n",
       "      <th>3</th>\n",
       "      <td>2017-01-06</td>\n",
       "      <td>116.779999</td>\n",
       "      <td>118.160004</td>\n",
       "      <td>116.470001</td>\n",
       "      <td>117.910004</td>\n",
       "      <td>114.726402</td>\n",
       "      <td>31751900</td>\n",
       "    </tr>\n",
       "    <tr>\n",
       "      <th>4</th>\n",
       "      <td>2017-01-09</td>\n",
       "      <td>117.949997</td>\n",
       "      <td>119.430000</td>\n",
       "      <td>117.940002</td>\n",
       "      <td>118.989998</td>\n",
       "      <td>115.777237</td>\n",
       "      <td>33561900</td>\n",
       "    </tr>\n",
       "    <tr>\n",
       "      <th>...</th>\n",
       "      <td>...</td>\n",
       "      <td>...</td>\n",
       "      <td>...</td>\n",
       "      <td>...</td>\n",
       "      <td>...</td>\n",
       "      <td>...</td>\n",
       "      <td>...</td>\n",
       "    </tr>\n",
       "    <tr>\n",
       "      <th>246</th>\n",
       "      <td>2017-12-22</td>\n",
       "      <td>174.679993</td>\n",
       "      <td>175.419998</td>\n",
       "      <td>174.500000</td>\n",
       "      <td>175.009995</td>\n",
       "      <td>173.023026</td>\n",
       "      <td>16114600</td>\n",
       "    </tr>\n",
       "    <tr>\n",
       "      <th>247</th>\n",
       "      <td>2017-12-26</td>\n",
       "      <td>170.800003</td>\n",
       "      <td>171.470001</td>\n",
       "      <td>169.679993</td>\n",
       "      <td>170.570007</td>\n",
       "      <td>168.633423</td>\n",
       "      <td>33185500</td>\n",
       "    </tr>\n",
       "    <tr>\n",
       "      <th>248</th>\n",
       "      <td>2017-12-27</td>\n",
       "      <td>170.100006</td>\n",
       "      <td>170.779999</td>\n",
       "      <td>169.710007</td>\n",
       "      <td>170.600006</td>\n",
       "      <td>168.663101</td>\n",
       "      <td>21498200</td>\n",
       "    </tr>\n",
       "    <tr>\n",
       "      <th>249</th>\n",
       "      <td>2017-12-28</td>\n",
       "      <td>171.000000</td>\n",
       "      <td>171.850006</td>\n",
       "      <td>170.479996</td>\n",
       "      <td>171.080002</td>\n",
       "      <td>169.137650</td>\n",
       "      <td>16480200</td>\n",
       "    </tr>\n",
       "    <tr>\n",
       "      <th>250</th>\n",
       "      <td>2017-12-29</td>\n",
       "      <td>170.520004</td>\n",
       "      <td>170.589996</td>\n",
       "      <td>169.220001</td>\n",
       "      <td>169.229996</td>\n",
       "      <td>167.308640</td>\n",
       "      <td>25884400</td>\n",
       "    </tr>\n",
       "  </tbody>\n",
       "</table>\n",
       "<p>251 rows × 7 columns</p>\n",
       "</div>"
      ],
      "text/plain": [
       "           Date        Open        High         Low       Close   Adj Close  \\\n",
       "0    2017-01-03  115.800003  116.330002  114.760002  116.150002  113.013916   \n",
       "1    2017-01-04  115.849998  116.510002  115.750000  116.019997  112.887413   \n",
       "2    2017-01-05  115.919998  116.860001  115.809998  116.610001  113.461502   \n",
       "3    2017-01-06  116.779999  118.160004  116.470001  117.910004  114.726402   \n",
       "4    2017-01-09  117.949997  119.430000  117.940002  118.989998  115.777237   \n",
       "..          ...         ...         ...         ...         ...         ...   \n",
       "246  2017-12-22  174.679993  175.419998  174.500000  175.009995  173.023026   \n",
       "247  2017-12-26  170.800003  171.470001  169.679993  170.570007  168.633423   \n",
       "248  2017-12-27  170.100006  170.779999  169.710007  170.600006  168.663101   \n",
       "249  2017-12-28  171.000000  171.850006  170.479996  171.080002  169.137650   \n",
       "250  2017-12-29  170.520004  170.589996  169.220001  169.229996  167.308640   \n",
       "\n",
       "       Volume  \n",
       "0    28781900  \n",
       "1    21118100  \n",
       "2    22193600  \n",
       "3    31751900  \n",
       "4    33561900  \n",
       "..        ...  \n",
       "246  16114600  \n",
       "247  33185500  \n",
       "248  21498200  \n",
       "249  16480200  \n",
       "250  25884400  \n",
       "\n",
       "[251 rows x 7 columns]"
      ]
     },
     "execution_count": 2,
     "metadata": {},
     "output_type": "execute_result"
    }
   ],
   "source": [
    "df_2017 = pd.read_csv(\"AAPL-2017.csv\")\n",
    "df_2017"
   ]
  },
  {
   "cell_type": "code",
   "execution_count": 7,
   "id": "9f366a2a",
   "metadata": {},
   "outputs": [
    {
     "data": {
      "text/html": [
       "<div>\n",
       "<style scoped>\n",
       "    .dataframe tbody tr th:only-of-type {\n",
       "        vertical-align: middle;\n",
       "    }\n",
       "\n",
       "    .dataframe tbody tr th {\n",
       "        vertical-align: top;\n",
       "    }\n",
       "\n",
       "    .dataframe thead th {\n",
       "        text-align: right;\n",
       "    }\n",
       "</style>\n",
       "<table border=\"1\" class=\"dataframe\">\n",
       "  <thead>\n",
       "    <tr style=\"text-align: right;\">\n",
       "      <th></th>\n",
       "      <th>Date</th>\n",
       "      <th>Open</th>\n",
       "      <th>High</th>\n",
       "      <th>Low</th>\n",
       "      <th>Close</th>\n",
       "      <th>Adj Close</th>\n",
       "      <th>Volume</th>\n",
       "    </tr>\n",
       "  </thead>\n",
       "  <tbody>\n",
       "    <tr>\n",
       "      <th>0</th>\n",
       "      <td>2016-01-04</td>\n",
       "      <td>102.610001</td>\n",
       "      <td>105.370003</td>\n",
       "      <td>102.000000</td>\n",
       "      <td>105.349998</td>\n",
       "      <td>100.274513</td>\n",
       "      <td>67649400</td>\n",
       "    </tr>\n",
       "    <tr>\n",
       "      <th>1</th>\n",
       "      <td>2016-01-05</td>\n",
       "      <td>105.750000</td>\n",
       "      <td>105.849998</td>\n",
       "      <td>102.410004</td>\n",
       "      <td>102.709999</td>\n",
       "      <td>97.761681</td>\n",
       "      <td>55791000</td>\n",
       "    </tr>\n",
       "    <tr>\n",
       "      <th>2</th>\n",
       "      <td>2016-01-06</td>\n",
       "      <td>100.559998</td>\n",
       "      <td>102.370003</td>\n",
       "      <td>99.870003</td>\n",
       "      <td>100.699997</td>\n",
       "      <td>95.848511</td>\n",
       "      <td>68457400</td>\n",
       "    </tr>\n",
       "    <tr>\n",
       "      <th>3</th>\n",
       "      <td>2016-01-07</td>\n",
       "      <td>98.680000</td>\n",
       "      <td>100.129997</td>\n",
       "      <td>96.430000</td>\n",
       "      <td>96.449997</td>\n",
       "      <td>91.803276</td>\n",
       "      <td>81094400</td>\n",
       "    </tr>\n",
       "    <tr>\n",
       "      <th>4</th>\n",
       "      <td>2016-01-08</td>\n",
       "      <td>98.550003</td>\n",
       "      <td>99.110001</td>\n",
       "      <td>96.760002</td>\n",
       "      <td>96.959999</td>\n",
       "      <td>92.288696</td>\n",
       "      <td>70798000</td>\n",
       "    </tr>\n",
       "    <tr>\n",
       "      <th>...</th>\n",
       "      <td>...</td>\n",
       "      <td>...</td>\n",
       "      <td>...</td>\n",
       "      <td>...</td>\n",
       "      <td>...</td>\n",
       "      <td>...</td>\n",
       "      <td>...</td>\n",
       "    </tr>\n",
       "    <tr>\n",
       "      <th>245</th>\n",
       "      <td>2016-12-21</td>\n",
       "      <td>116.800003</td>\n",
       "      <td>117.400002</td>\n",
       "      <td>116.779999</td>\n",
       "      <td>117.059998</td>\n",
       "      <td>113.899338</td>\n",
       "      <td>23783200</td>\n",
       "    </tr>\n",
       "    <tr>\n",
       "      <th>246</th>\n",
       "      <td>2016-12-22</td>\n",
       "      <td>116.349998</td>\n",
       "      <td>116.510002</td>\n",
       "      <td>115.639999</td>\n",
       "      <td>116.290001</td>\n",
       "      <td>113.150139</td>\n",
       "      <td>26085900</td>\n",
       "    </tr>\n",
       "    <tr>\n",
       "      <th>247</th>\n",
       "      <td>2016-12-23</td>\n",
       "      <td>115.589996</td>\n",
       "      <td>116.519997</td>\n",
       "      <td>115.589996</td>\n",
       "      <td>116.519997</td>\n",
       "      <td>113.373917</td>\n",
       "      <td>14249500</td>\n",
       "    </tr>\n",
       "    <tr>\n",
       "      <th>248</th>\n",
       "      <td>2016-12-27</td>\n",
       "      <td>116.519997</td>\n",
       "      <td>117.800003</td>\n",
       "      <td>116.489998</td>\n",
       "      <td>117.260002</td>\n",
       "      <td>114.093948</td>\n",
       "      <td>18296900</td>\n",
       "    </tr>\n",
       "    <tr>\n",
       "      <th>249</th>\n",
       "      <td>2016-12-28</td>\n",
       "      <td>117.519997</td>\n",
       "      <td>118.019997</td>\n",
       "      <td>116.199997</td>\n",
       "      <td>116.760002</td>\n",
       "      <td>113.607445</td>\n",
       "      <td>20905900</td>\n",
       "    </tr>\n",
       "  </tbody>\n",
       "</table>\n",
       "<p>250 rows × 7 columns</p>\n",
       "</div>"
      ],
      "text/plain": [
       "           Date        Open        High         Low       Close   Adj Close  \\\n",
       "0    2016-01-04  102.610001  105.370003  102.000000  105.349998  100.274513   \n",
       "1    2016-01-05  105.750000  105.849998  102.410004  102.709999   97.761681   \n",
       "2    2016-01-06  100.559998  102.370003   99.870003  100.699997   95.848511   \n",
       "3    2016-01-07   98.680000  100.129997   96.430000   96.449997   91.803276   \n",
       "4    2016-01-08   98.550003   99.110001   96.760002   96.959999   92.288696   \n",
       "..          ...         ...         ...         ...         ...         ...   \n",
       "245  2016-12-21  116.800003  117.400002  116.779999  117.059998  113.899338   \n",
       "246  2016-12-22  116.349998  116.510002  115.639999  116.290001  113.150139   \n",
       "247  2016-12-23  115.589996  116.519997  115.589996  116.519997  113.373917   \n",
       "248  2016-12-27  116.519997  117.800003  116.489998  117.260002  114.093948   \n",
       "249  2016-12-28  117.519997  118.019997  116.199997  116.760002  113.607445   \n",
       "\n",
       "       Volume  \n",
       "0    67649400  \n",
       "1    55791000  \n",
       "2    68457400  \n",
       "3    81094400  \n",
       "4    70798000  \n",
       "..        ...  \n",
       "245  23783200  \n",
       "246  26085900  \n",
       "247  14249500  \n",
       "248  18296900  \n",
       "249  20905900  \n",
       "\n",
       "[250 rows x 7 columns]"
      ]
     },
     "execution_count": 7,
     "metadata": {},
     "output_type": "execute_result"
    }
   ],
   "source": [
    "df_2016 = pd.read_csv(\"AAPL-2016.csv\")\n",
    "df_2016"
   ]
  },
  {
   "cell_type": "code",
   "execution_count": 5,
   "id": "71bd078e",
   "metadata": {
    "collapsed": true
   },
   "outputs": [
    {
     "data": {
      "text/plain": [
       "0      28781900\n",
       "1      21118100\n",
       "2      22193600\n",
       "3      31751900\n",
       "4      33561900\n",
       "5      24462100\n",
       "6      27588600\n",
       "7      27086200\n",
       "8      26111900\n",
       "9      34439800\n",
       "10     23713000\n",
       "11     25597300\n",
       "12     32597900\n",
       "13     22050200\n",
       "14     23211000\n",
       "15     32377600\n",
       "16     26337600\n",
       "17     20562900\n",
       "18     30377500\n",
       "19     49201000\n",
       "20    111985000\n",
       "21     33710400\n",
       "22     24507300\n",
       "23     26845900\n",
       "24     38183800\n",
       "25     23004100\n",
       "26     28349900\n",
       "27     20065500\n",
       "28     23035400\n",
       "29     33226200\n",
       "30     35623100\n",
       "31     22584600\n",
       "32     22198200\n",
       "33     24507200\n",
       "34     20836900\n",
       "35     20788200\n",
       "36     21776600\n",
       "37     20257400\n",
       "38     23482900\n",
       "39     36414600\n",
       "Name: Volume, dtype: int64"
      ]
     },
     "execution_count": 5,
     "metadata": {},
     "output_type": "execute_result"
    }
   ],
   "source": [
    "df_2017_volume = df_2017['Volume'][:40]\n",
    "df_2017_volume\n",
    "# df_2017_volume_date = df_20"
   ]
  },
  {
   "cell_type": "code",
   "execution_count": 6,
   "id": "bc8f15c5",
   "metadata": {
    "collapsed": true
   },
   "outputs": [
    {
     "data": {
      "text/plain": [
       "[<matplotlib.lines.Line2D at 0x1f5cc6ef220>]"
      ]
     },
     "execution_count": 6,
     "metadata": {},
     "output_type": "execute_result"
    },
    {
     "data": {
      "image/png": "[encoded data removed]",
      "text/plain": [
       "<Figure size 640x480 with 1 Axes>"
      ]
     },
     "metadata": {},
     "output_type": "display_data"
    }
   ],
   "source": [
    "plt.plot(df_2017_volume )"
   ]
  },
  {
   "cell_type": "markdown",
   "id": "3b3a94e8",
   "metadata": {},
   "source": [
    "### Question 2"
   ]
  },
  {
   "cell_type": "code",
   "execution_count": 11,
   "id": "582e4379",
   "metadata": {},
   "outputs": [
    {
     "data": {
      "text/plain": [
       "0      115.800003\n",
       "1      115.849998\n",
       "2      115.919998\n",
       "3      116.779999\n",
       "4      117.949997\n",
       "          ...    \n",
       "246    174.679993\n",
       "247    170.800003\n",
       "248    170.100006\n",
       "249    171.000000\n",
       "250    170.520004\n",
       "Name: Open, Length: 251, dtype: float64"
      ]
     },
     "execution_count": 11,
     "metadata": {},
     "output_type": "execute_result"
    }
   ],
   "source": [
    "df_2017_open = df_2017['Open']\n",
    "df_2017_open"
   ]
  },
  {
   "cell_type": "code",
   "execution_count": 17,
   "id": "280722be",
   "metadata": {},
   "outputs": [
    {
     "data": {
      "text/plain": [
       "0      102.610001\n",
       "1      105.750000\n",
       "2      100.559998\n",
       "3       98.680000\n",
       "4       98.550003\n",
       "          ...    \n",
       "245    116.800003\n",
       "246    116.349998\n",
       "247    115.589996\n",
       "248    116.519997\n",
       "249    117.519997\n",
       "Name: Open, Length: 250, dtype: float64"
      ]
     },
     "execution_count": 17,
     "metadata": {},
     "output_type": "execute_result"
    }
   ],
   "source": [
    "df_2016_open = df_2016['Open']\n",
    "df_2016_open"
   ]
  },
  {
   "cell_type": "markdown",
   "id": "2937b464",
   "metadata": {},
   "source": [
    "## Opening price for Apple in 2016 and 2017"
   ]
  },
  {
   "cell_type": "code",
   "execution_count": 19,
   "id": "f14415e2",
   "metadata": {},
   "outputs": [
    {
     "data": {
      "text/plain": [
       "<matplotlib.legend.Legend at 0x1f5d26e8b80>"
      ]
     },
     "execution_count": 19,
     "metadata": {},
     "output_type": "execute_result"
    },
    {
     "data": {
      "image/png": "[encoded data removed]",
      "text/plain": [
       "<Figure size 640x480 with 1 Axes>"
      ]
     },
     "metadata": {},
     "output_type": "display_data"
    }
   ],
   "source": [
    "plt.title(\"AAPL 2017 vrs 2016\")\n",
    "plt.plot(df_2017_open, color='r', label='2017')\n",
    "plt.plot(df_2016_open, color='b', label='2016')\n",
    "plt.legend()"
   ]
  },
  {
   "cell_type": "code",
   "execution_count": null,
   "id": "daa5b901",
   "metadata": {},
   "outputs": [],
   "source": []
  },
  {
   "cell_type": "code",
   "execution_count": null,
   "id": "31add635",
   "metadata": {},
   "outputs": [],
   "source": []
  }
 ],
 "metadata": {
  "kernelspec": {
   "display_name": "Python 3 (ipykernel)",
   "language": "python",
   "name": "python3"
  },
  "language_info": {
   "codemirror_mode": {
    "name": "ipython",
    "version": 3
   },
   "file_extension": ".py",
   "mimetype": "text/x-python",
   "name": "python",
   "nbconvert_exporter": "python",
   "pygments_lexer": "ipython3",
   "version": "3.10.9"
  }
 },
 "nbformat": 4,
 "nbformat_minor": 5
}
