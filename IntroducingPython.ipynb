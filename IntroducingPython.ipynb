{
 "cells": [
  {
   "cell_type": "markdown",
   "id": "ab9790cf",
   "metadata": {},
   "source": [
    "### Question 1"
   ]
  },
  {
   "cell_type": "code",
   "execution_count": 3,
   "id": "9734c723",
   "metadata": {},
   "outputs": [
    {
     "data": {
      "text/plain": [
       "'Hello World'"
      ]
     },
     "execution_count": 3,
     "metadata": {},
     "output_type": "execute_result"
    }
   ],
   "source": [
    "\"Hello World\""
   ]
  },
  {
   "cell_type": "markdown",
   "id": "92a11ad1",
   "metadata": {},
   "source": [
    "### Question 2"
   ]
  },
  {
   "cell_type": "code",
   "execution_count": 5,
   "id": "ec117f44",
   "metadata": {},
   "outputs": [],
   "source": [
    "world = \"Hello\""
   ]
  },
  {
   "cell_type": "code",
   "execution_count": 8,
   "id": "e1b2a65a",
   "metadata": {
    "scrolled": true
   },
   "outputs": [
    {
     "name": "stdout",
     "output_type": "stream",
     "text": [
      "Please enter a number: 2\n",
      "The number is even\n"
     ]
    }
   ],
   "source": [
    "num = int(input(\"Please enter a number: \"))\n",
    "if (num % 2 == 0):\n",
    "    print(\"The number is even\")\n",
    "else:\n",
    "    print(\"The number is odd\")"
   ]
  },
  {
   "cell_type": "markdown",
   "id": "51ef7e2c",
   "metadata": {},
   "source": [
    "### Question 3"
   ]
  },
  {
   "cell_type": "code",
   "execution_count": 13,
   "id": "e10da100",
   "metadata": {
    "scrolled": false
   },
   "outputs": [
    {
     "name": "stdout",
     "output_type": "stream",
     "text": [
      "Deborah\n",
      "23\n",
      "Deborah 23\n"
     ]
    }
   ],
   "source": [
    "name = \"Deborah\"\n",
    "age = 23\n",
    "print(name)\n",
    "print(age)\n",
    "\n",
    "name_age = name + \" \" + str(age)\n",
    "print(name_age)"
   ]
  },
  {
   "cell_type": "markdown",
   "id": "54f253c2",
   "metadata": {},
   "source": [
    "### Question 4"
   ]
  },
  {
   "cell_type": "code",
   "execution_count": 22,
   "id": "1ee26398",
   "metadata": {},
   "outputs": [
    {
     "name": "stdout",
     "output_type": "stream",
     "text": [
      "Please enter a random value: 12\n",
      "You are wrong\n",
      "Please enter a random value: 34\n",
      "You are wrong\n",
      "Please enter a random value: 78\n",
      "You are wrong\n",
      "Please enter a random value: 90\n",
      "You are wrong\n",
      "Please enter a random value: 12\n",
      "You are wrong\n",
      "Please enter a random value: 4\n",
      "You are right\n"
     ]
    }
   ],
   "source": [
    "import random\n",
    "\n",
    "while True:\n",
    "    random_number = int(input(\"Please enter a random value: \"))\n",
    "    if random_number in range(random.randint(1, 10)):\n",
    "        print(\"You are right\")\n",
    "        break;\n",
    "    else:\n",
    "        print(\"You are wrong\")\n",
    "    "
   ]
  },
  {
   "cell_type": "markdown",
   "id": "bc7c012a",
   "metadata": {},
   "source": [
    "### Question 5"
   ]
  },
  {
   "cell_type": "code",
   "execution_count": 26,
   "id": "28e8a471",
   "metadata": {},
   "outputs": [
    {
     "name": "stdout",
     "output_type": "stream",
     "text": [
      "The values of i are : 4\n",
      "The values of i are : 16\n",
      "The values of j are : 4\n",
      "The values of j are : 16\n"
     ]
    }
   ],
   "source": [
    "# using a list\n",
    "\n",
    "list = [1, 4, 9, 16, 25]\n",
    "for i in list:\n",
    "    if (i % 2 == 0):\n",
    "        print(\"The values of i are : \" + str(i))\n",
    "\n",
    "\n",
    "# using a tuple\n",
    "tuple = (1, 4, 9, 16, 15)\n",
    "for j in tuple:\n",
    "    if (j % 2 == 0):\n",
    "        print(\"The values of j are : \" + str(j))\n"
   ]
  },
  {
   "cell_type": "markdown",
   "id": "d2c88198",
   "metadata": {},
   "source": [
    "### Question 6"
   ]
  },
  {
   "cell_type": "code",
   "execution_count": 60,
   "id": "cfd3fd55",
   "metadata": {},
   "outputs": [
    {
     "name": "stdout",
     "output_type": "stream",
     "text": [
      "1 + 2 + 3 + 4 + 5 + 6 + 7 + 8 + 9 + 10 + 11 + 12 + 13 + 14 + 15 + 16 + 17 + 18 + 19 + 20 + 21 + 22 + 23 = 276 years\n",
      "Months: 3312, Days: 100740, Hours: 2216280\n"
     ]
    }
   ],
   "source": [
    "age = 23\n",
    "sum = 0\n",
    "i = 1\n",
    "while i <= age:\n",
    "    sum += i\n",
    "    if (i == 23):\n",
    "        print(i, end=' = ')\n",
    "    else:\n",
    "        print(i, end=' + ')\n",
    "    i = i + 1\n",
    "\n",
    "print(str(sum) + \" years\", sep='=')\n",
    "\n",
    "month = sum * 12\n",
    "day = sum * 365\n",
    "hour = sum * 22 * 365 \n",
    "\n",
    "print('Months: ' + str(month) + ', ' + 'Days: ' + str(day) + ', ' + 'Hours: ' + str(hour) )\n",
    "\n"
   ]
  }
 ],
 "metadata": {
  "kernelspec": {
   "display_name": "Python 3 (ipykernel)",
   "language": "python",
   "name": "python3"
  },
  "language_info": {
   "codemirror_mode": {
    "name": "ipython",
    "version": 3
   },
   "file_extension": ".py",
   "mimetype": "text/x-python",
   "name": "python",
   "nbconvert_exporter": "python",
   "pygments_lexer": "ipython3",
   "version": "3.10.9"
  }
 },
 "nbformat": 4,
 "nbformat_minor": 5
}
