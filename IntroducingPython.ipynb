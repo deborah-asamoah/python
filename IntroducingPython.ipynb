{
 "cells": [
  {
   "cell_type": "markdown",
   "id": "ab9790cf",
   "metadata": {},
   "source": [
    "### Question 1"
   ]
  },
  {
   "cell_type": "code",
   "execution_count": 3,
   "id": "9734c723",
   "metadata": {},
   "outputs": [
    {
     "data": {
      "text/plain": [
       "'Hello World'"
      ]
     },
     "execution_count": 3,
     "metadata": {},
     "output_type": "execute_result"
    }
   ],
   "source": [
    "\"Hello World\""
   ]
  },
  {
   "cell_type": "markdown",
   "id": "92a11ad1",
   "metadata": {},
   "source": [
    "### Question 2"
   ]
  },
  {
   "cell_type": "code",
   "execution_count": 5,
   "id": "ec117f44",
   "metadata": {},
   "outputs": [],
   "source": [
    "world = \"Hello\""
   ]
  },
  {
   "cell_type": "code",
   "execution_count": 8,
   "id": "e1b2a65a",
   "metadata": {
    "scrolled": true
   },
   "outputs": [
    {
     "name": "stdout",
     "output_type": "stream",
     "text": [
      "Please enter a number: 2\n",
      "The number is even\n"
     ]
    }
   ],
   "source": [
    "num = int(input(\"Please enter a number: \"))\n",
    "if (num % 2 == 0):\n",
    "    print(\"The number is even\")\n",
    "else:\n",
    "    print(\"The number is odd\")"
   ]
  },
  {
   "cell_type": "markdown",
   "id": "51ef7e2c",
   "metadata": {},
   "source": [
    "### Question 3"
   ]
  },
  {
   "cell_type": "code",
   "execution_count": 13,
   "id": "e10da100",
   "metadata": {
    "scrolled": false
   },
   "outputs": [
    {
     "name": "stdout",
     "output_type": "stream",
     "text": [
      "Deborah\n",
      "23\n",
      "Deborah 23\n"
     ]
    }
   ],
   "source": [
    "name = \"Deborah\"\n",
    "age = 23\n",
    "print(name)\n",
    "print(age)\n",
    "\n",
    "name_age = name + \" \" + str(age)\n",
    "print(name_age)"
   ]
  },
  {
   "cell_type": "markdown",
   "id": "54f253c2",
   "metadata": {},
   "source": [
    "### Question 4"
   ]
  },
  {
   "cell_type": "code",
   "execution_count": 5,
   "id": "1ee26398",
   "metadata": {},
   "outputs": [
    {
     "name": "stdout",
     "output_type": "stream",
     "text": [
      "Please enter a random value: 1\n",
      "You are wrong\n",
      "Please enter a random value: 2\n",
      "You are wrong\n",
      "Please enter a random value: 3\n",
      "You are wrong\n",
      "Please enter a random value: 4\n",
      "You are wrong\n",
      "Please enter a random value: 5\n",
      "You are wrong\n",
      "Please enter a random value: 6\n",
      "You are wrong\n",
      "Please enter a random value: 7\n",
      "You are wrong\n",
      "Please enter a random value: 8\n",
      "You are wrong\n",
      "Please enter a random value: 9\n",
      "You are right\n"
     ]
    }
   ],
   "source": [
    "import random\n",
    "\n",
    "rand = random.randint(1, 10)\n",
    "\n",
    "while True:\n",
    "    random_number = int(input(\"Please enter a random value: \"))\n",
    "    if random_number == rand :\n",
    "        print(\"You are right\")\n",
    "        break;\n",
    "    else:\n",
    "        print(\"You are wrong\")\n",
    "    "
   ]
  },
  {
   "cell_type": "markdown",
   "id": "bc7c012a",
   "metadata": {},
   "source": [
    "### Question 5"
   ]
  },
  {
   "cell_type": "code",
   "execution_count": 26,
   "id": "28e8a471",
   "metadata": {},
   "outputs": [
    {
     "name": "stdout",
     "output_type": "stream",
     "text": [
      "The values of i are : 4\n",
      "The values of i are : 16\n",
      "The values of j are : 4\n",
      "The values of j are : 16\n"
     ]
    }
   ],
   "source": [
    "# using a list\n",
    "\n",
    "list1 = [1, 4, 9, 16, 25]\n",
    "for i in list:\n",
    "    if (i % 2 == 0):\n",
    "        print(\"The values of i are : \" + str(i))\n",
    "\n",
    "\n",
    "# using a tuple\n",
    "tuple1 = (1, 4, 9, 16, 15)\n",
    "for j in tuple:\n",
    "    if (j % 2 == 0):\n",
    "        print(\"The values of j are : \" + str(j))\n"
   ]
  },
  {
   "cell_type": "markdown",
   "id": "d2c88198",
   "metadata": {},
   "source": [
    "### Question 6"
   ]
  },
  {
   "cell_type": "code",
   "execution_count": 10,
   "id": "cfd3fd55",
   "metadata": {},
   "outputs": [
    {
     "name": "stdout",
     "output_type": "stream",
     "text": [
      "276 years\n",
      "Months: 3312, Days: 100740, Hours: 2216280\n"
     ]
    }
   ],
   "source": [
    "age = 23\n",
    "sum = 0\n",
    "i = 1\n",
    "while i <= age:\n",
    "    sum += i\n",
    "    i = i + 1\n",
    "\n",
    "print(str(sum) + \" years\", sep='=')\n",
    "\n",
    "month = sum * 12\n",
    "day = sum * 365\n",
    "hour = sum * 22 * 365 \n",
    "\n",
    "print('Months: ' + str(month) + ', ' + 'Days: ' + str(day) + ', ' + 'Hours: ' + str(hour) )\n",
    "\n"
   ]
  },
  {
   "cell_type": "code",
   "execution_count": 21,
   "id": "0b9bda67",
   "metadata": {},
   "outputs": [
    {
     "ename": "SyntaxError",
     "evalue": "incomplete input (1851742298.py, line 14)",
     "output_type": "error",
     "traceback": [
      "\u001b[1;36m  Cell \u001b[1;32mIn[21], line 14\u001b[1;36m\u001b[0m\n\u001b[1;33m    \u001b[0m\n\u001b[1;37m    ^\u001b[0m\n\u001b[1;31mSyntaxError\u001b[0m\u001b[1;31m:\u001b[0m incomplete input\n"
     ]
    }
   ],
   "source": [
    "n1 = 0\n",
    "n2 = 1\n",
    "count = 0\n",
    "\n",
    "\n",
    "while count <=20:\n",
    "    print(n1)\n",
    "    n1=n2+n1\n",
    "#     n2=n1+n2\n",
    "#     n3=n1\n",
    "#     print(n3)\n",
    "    \n",
    "#     count = count + 1\n",
    "    \n"
   ]
  },
  {
   "cell_type": "code",
   "execution_count": 13,
   "id": "2d512e73",
   "metadata": {},
   "outputs": [
    {
     "ename": "TypeError",
     "evalue": "string indices must be integers",
     "output_type": "error",
     "traceback": [
      "\u001b[1;31m---------------------------------------------------------------------------\u001b[0m",
      "\u001b[1;31mTypeError\u001b[0m                                 Traceback (most recent call last)",
      "Cell \u001b[1;32mIn[13], line 5\u001b[0m\n\u001b[0;32m      2\u001b[0m \u001b[38;5;66;03m# print(name[-1])\u001b[39;00m\n\u001b[0;32m      4\u001b[0m \u001b[38;5;28;01mfor\u001b[39;00m i \u001b[38;5;129;01min\u001b[39;00m name:\n\u001b[1;32m----> 5\u001b[0m     \u001b[38;5;28mprint\u001b[39m(\u001b[43mname\u001b[49m\u001b[43m[\u001b[49m\u001b[43mi\u001b[49m\u001b[43m]\u001b[49m, sep\u001b[38;5;241m=\u001b[39m\u001b[38;5;124m'\u001b[39m\u001b[38;5;124m:\u001b[39m\u001b[38;5;124m'\u001b[39m)\n",
      "\u001b[1;31mTypeError\u001b[0m: string indices must be integers"
     ]
    }
   ],
   "source": [
    "name = \"Debbie\"\n",
    "# print(name[-1])\n",
    "\n",
    "for i in name:\n",
    "    print(i, sep=':')\n",
    "    if\n"
   ]
  }
 ],
 "metadata": {
  "kernelspec": {
   "display_name": "Python 3 (ipykernel)",
   "language": "python",
   "name": "python3"
  },
  "language_info": {
   "codemirror_mode": {
    "name": "ipython",
    "version": 3
   },
   "file_extension": ".py",
   "mimetype": "text/x-python",
   "name": "python",
   "nbconvert_exporter": "python",
   "pygments_lexer": "ipython3",
   "version": "3.10.9"
  }
 },
 "nbformat": 4,
 "nbformat_minor": 5
}
