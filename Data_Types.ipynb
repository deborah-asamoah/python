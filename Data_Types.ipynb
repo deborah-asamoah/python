{
 "cells": [
  {
   "cell_type": "code",
   "execution_count": null,
   "id": "309b6113",
   "metadata": {},
   "outputs": [],
   "source": []
  },
  {
   "cell_type": "code",
   "execution_count": null,
   "id": "013bc2d6",
   "metadata": {},
   "outputs": [],
   "source": []
  },
  {
   "cell_type": "code",
   "execution_count": null,
   "id": "459f8ff1",
   "metadata": {},
   "outputs": [],
   "source": []
  },
  {
   "cell_type": "code",
   "execution_count": null,
   "id": "9e8a7075",
   "metadata": {},
   "outputs": [],
   "source": []
  },
  {
   "cell_type": "code",
   "execution_count": null,
   "id": "edad8ba7",
   "metadata": {},
   "outputs": [],
   "source": []
  },
  {
   "cell_type": "code",
   "execution_count": null,
   "id": "fd0fa276",
   "metadata": {},
   "outputs": [],
   "source": []
  },
  {
   "cell_type": "code",
   "execution_count": null,
   "id": "3e43bd27",
   "metadata": {},
   "outputs": [],
   "source": []
  },
  {
   "cell_type": "code",
   "execution_count": null,
   "id": "1f1a34b7",
   "metadata": {},
   "outputs": [],
   "source": []
  },
  {
   "cell_type": "code",
   "execution_count": null,
   "id": "9bf8964c",
   "metadata": {},
   "outputs": [],
   "source": [
    "### Question "
   ]
  },
  {
   "cell_type": "code",
   "execution_count": null,
   "id": "7de36b86",
   "metadata": {},
   "outputs": [],
   "source": []
  },
  {
   "cell_type": "markdown",
   "id": "69421963",
   "metadata": {},
   "source": [
    "### Question 9"
   ]
  },
  {
   "cell_type": "code",
   "execution_count": 8,
   "id": "134351d1",
   "metadata": {},
   "outputs": [
    {
     "name": "stdout",
     "output_type": "stream",
     "text": [
      "Please enter a number between 1 and 8: 1\n",
      "Please enter a number between 1 and 8: 77\n",
      "Please enter a number between 1 and 8: 4\n",
      "Please enter a number between 1 and 8: 6\n",
      "Please enter a number between 1 and 8: 3\n",
      "Please enter a number between 1 and 8: 5\n",
      "Please enter a number between 1 and 8: 3\n",
      "Please enter a number between 1 and 8: 5\n",
      "Please enter a number between 1 and 8: 3\n",
      "Please enter a number between 1 and 8: 5\n",
      "Please enter a number between 1 and 8: 3\n",
      "[1, 6, 3, 5, 3, 5, 3, 5, 3]\n",
      "The number 5 appears : 3\n"
     ]
    }
   ],
   "source": [
    "list1 = []\n",
    "i = 0\n",
    "\n",
    "for i in range(10):\n",
    "    num = int(input(\"Please enter a number between 1 and 8: \"))\n",
    "    list1.append(num)\n",
    "\n",
    "print(list1)\n",
    "print(\"The number 5 appears : \" + str(list1.count(5)))\n"
   ]
  },
  {
   "cell_type": "markdown",
   "id": "d1354628",
   "metadata": {},
   "source": [
    "### Question 10"
   ]
  },
  {
   "cell_type": "code",
   "execution_count": 10,
   "id": "937ec744",
   "metadata": {},
   "outputs": [
    {
     "name": "stdout",
     "output_type": "stream",
     "text": [
      "[4, 16]\n"
     ]
    }
   ],
   "source": [
    "list1 = [1, 4, 9, 16, 25]\n",
    "\n",
    "print( [item for item in list1 if item % 2 == 0] )"
   ]
  },
  {
   "cell_type": "code",
   "execution_count": null,
   "id": "455ca6a4",
   "metadata": {},
   "outputs": [],
   "source": []
  }
 ],
 "metadata": {
  "kernelspec": {
   "display_name": "Python 3 (ipykernel)",
   "language": "python",
   "name": "python3"
  },
  "language_info": {
   "codemirror_mode": {
    "name": "ipython",
    "version": 3
   },
   "file_extension": ".py",
   "mimetype": "text/x-python",
   "name": "python",
   "nbconvert_exporter": "python",
   "pygments_lexer": "ipython3",
   "version": "3.10.9"
  }
 },
 "nbformat": 4,
 "nbformat_minor": 5
}
