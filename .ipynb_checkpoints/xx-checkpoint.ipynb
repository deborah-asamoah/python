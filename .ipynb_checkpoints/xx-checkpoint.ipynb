{
 "cells": [
  {
   "cell_type": "markdown",
   "id": "9c66c66b",
   "metadata": {},
   "source": [
    "### Question 1"
   ]
  },
  {
   "cell_type": "code",
   "execution_count": 2,
   "id": "9b2330db",
   "metadata": {},
   "outputs": [
    {
     "name": "stdout",
     "output_type": "stream",
     "text": [
      "10\n"
     ]
    }
   ],
   "source": [
    "def inc(x):\n",
    "    x=x+1\n",
    "    \n",
    "\n",
    "x= 10\n",
    "inc(x)\n",
    "print(x)\n",
    "\n",
    "\n",
    "def f1(list1):\n",
    "    list1.append(\"!!!\")\n",
    "    \n",
    "l=['a', 'b']"
   ]
  },
  {
   "cell_type": "markdown",
   "id": "b7510a5d",
   "metadata": {},
   "source": [
    "### Question 2"
   ]
  },
  {
   "cell_type": "code",
   "execution_count": 46,
   "id": "07a76bb1",
   "metadata": {},
   "outputs": [
    {
     "name": "stdout",
     "output_type": "stream",
     "text": [
      "['d', 'a', 'b', 'c']\n"
     ]
    }
   ],
   "source": [
    "def func1 (list1):\n",
    "    list1 = list1[-1:] + list1[:-1]\n",
    "    return list1\n",
    "\n",
    "list1 = ['a', 'b', 'c', 'd']\n",
    "\n",
    "print(func1(list1))\n"
   ]
  },
  {
   "cell_type": "markdown",
   "id": "faf22f72",
   "metadata": {},
   "source": [
    "### Question 3"
   ]
  },
  {
   "cell_type": "code",
   "execution_count": 51,
   "id": "5dbddffd",
   "metadata": {},
   "outputs": [],
   "source": [
    "# def func2 (list2, l):\n",
    "#     tuple1 = ()\n",
    "#     for i in range(4):\n",
    "#         tuple1[i] = list2[i] \n",
    "#     return tuple1\n",
    "        \n",
    "# list2 = ['a', 'b', 'c', 'd']\n",
    "# print(func2(list2, 4))"
   ]
  },
  {
   "cell_type": "markdown",
   "id": "afd699da",
   "metadata": {},
   "source": [
    "### Question 4"
   ]
  },
  {
   "cell_type": "code",
   "execution_count": null,
   "id": "27ad3131",
   "metadata": {},
   "outputs": [],
   "source": [
    "\n",
    "\n",
    "\n",
    "\n",
    "\n",
    "\n",
    "\n",
    "\n",
    "\n",
    "\n",
    "\n",
    "\n",
    "\n",
    "\n",
    "\n"
   ]
  },
  {
   "cell_type": "code",
   "execution_count": null,
   "id": "2d839256",
   "metadata": {},
   "outputs": [],
   "source": []
  },
  {
   "cell_type": "code",
   "execution_count": null,
   "id": "46a0d03c",
   "metadata": {},
   "outputs": [],
   "source": []
  },
  {
   "cell_type": "code",
   "execution_count": null,
   "id": "603813ad",
   "metadata": {},
   "outputs": [],
   "source": []
  },
  {
   "cell_type": "code",
   "execution_count": null,
   "id": "fd516602",
   "metadata": {},
   "outputs": [],
   "source": []
  },
  {
   "cell_type": "code",
   "execution_count": null,
   "id": "20e62e66",
   "metadata": {},
   "outputs": [],
   "source": []
  },
  {
   "cell_type": "code",
   "execution_count": null,
   "id": "95d661ae",
   "metadata": {},
   "outputs": [],
   "source": []
  },
  {
   "cell_type": "code",
   "execution_count": null,
   "id": "6b4e2835",
   "metadata": {},
   "outputs": [],
   "source": []
  },
  {
   "cell_type": "code",
   "execution_count": null,
   "id": "e41460e2",
   "metadata": {},
   "outputs": [],
   "source": []
  },
  {
   "cell_type": "code",
   "execution_count": null,
   "id": "fabbd7bc",
   "metadata": {},
   "outputs": [],
   "source": []
  }
 ],
 "metadata": {
  "kernelspec": {
   "display_name": "Python 3 (ipykernel)",
   "language": "python",
   "name": "python3"
  },
  "language_info": {
   "codemirror_mode": {
    "name": "ipython",
    "version": 3
   },
   "file_extension": ".py",
   "mimetype": "text/x-python",
   "name": "python",
   "nbconvert_exporter": "python",
   "pygments_lexer": "ipython3",
   "version": "3.10.9"
  }
 },
 "nbformat": 4,
 "nbformat_minor": 5
}
